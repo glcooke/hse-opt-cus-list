{
 "cells": [
  {
   "cell_type": "markdown",
   "metadata": {
    "id": "jHqUYI-3Zh05"
   },
   "source": [
    "#Подготовка\n"
   ]
  },
  {
   "cell_type": "code",
   "execution_count": 1,
   "metadata": {
    "colab": {
     "base_uri": "https://localhost:8080/"
    },
    "id": "6ZkO90zEZhUy",
    "outputId": "64d72268-6f51-4d60-9ad2-e6357b84ed56"
   },
   "outputs": [
    {
     "name": "stdout",
     "output_type": "stream",
     "text": [
      "Mounted at /content/gdrive\n"
     ]
    }
   ],
   "source": [
    "from google.colab import drive\n",
    "\n",
    "drive.mount('/content/gdrive', force_remount=True)"
   ]
  },
  {
   "cell_type": "code",
   "execution_count": null,
   "metadata": {
    "id": "UO9XIoKo8LFq"
   },
   "outputs": [],
   "source": [
    "import os, sys\n",
    "\n",
    "from keras.engine import Input\n",
    "from keras.engine import Model\n",
    "from keras.layers import Dropout, Dense, Flatten, Conv1D, MaxPooling1D, Concatenate, LSTM, MaxPooling2D\n",
    "from keras.optimizers import Adam\n",
    "from keras import backend as K\n",
    "import tensorflow as tf\n",
    "import nltk\n",
    "\n",
    "from timeit import default_timer as timer\n",
    "\n",
    "import csv\n",
    "import re\n",
    "import random\n",
    "from random import randint\n",
    "\n",
    "from random import shuffle\n",
    "\n",
    "import numpy as np\n",
    "from nltk.corpus import stopwords\n",
    "\n",
    "# Download russian stop-words\n",
    "nltk.download('stopwords')\n",
    "\n",
    "# Download dataset\n",
    "!wget --continue -O /content/data.csv https://www.dropbox.com/s/xsrdgu293i8ie86/data.csv?dl=0"
   ]
  },
  {
   "cell_type": "code",
   "execution_count": null,
   "metadata": {
    "id": "y2oLprcJpURj"
   },
   "outputs": [],
   "source": [
    "cd gdrive/MyDrive/colab/"
   ]
  },
  {
   "cell_type": "code",
   "execution_count": null,
   "metadata": {
    "id": "9QKsKfeRos-n"
   },
   "outputs": [],
   "source": [
    "import pandas as pd \n",
    "  \n",
    "# Read IND_data.csv into a DataFrame, assigned to df \n",
    "months1 = pd.read_csv(\"months1.csv\", sep=';', encoding='cp1251') \n",
    "months2 = pd.read_csv(\"months2.csv\", sep=';', encoding='cp1251') \n",
    "df = months1.append(months2)\n",
    "df = df.reset_index()\n",
    "# Prints the first 5 rows of a DataFrame as default \n",
    "df.head() \n",
    "\n",
    "# Prints no. of rows and columns of a DataFrame \n",
    "df"
   ]
  },
  {
   "cell_type": "code",
   "execution_count": null,
   "metadata": {
    "id": "QvzgM5ynnINz"
   },
   "outputs": [],
   "source": [
    "from keras.models import model_from_json\n",
    "\n",
    "K.set_learning_phase(0)\n",
    "with open(os.path.join('model.json'), 'r') as fp:\n",
    "    model = model_from_json(fp.read())\n",
    "\n",
    "model.compile(loss='categorical_crossentropy', optimizer='adam',\n",
    "              metrics=['accuracy'])\n",
    "model.load_weights(os.path.join('model.h5'))\n",
    "\n",
    "def format_out(out, dict):\n",
    "    stringify = np.vectorize(lambda x: '{}: {:0.2f}'.format(dict[x], out[x]))\n",
    "    return ', '.join(stringify(np.argsort(-out)))\n",
    "    return \"\"\n",
    "\n",
    "def predict(m, word):\n",
    "    out = m.predict(np.array([word2input(word, 50)]))\n",
    "    indMax = np.argmax(out[0])\n",
    "    return SEX_DICT_REVERSE[indMax]"
   ]
  },
  {
   "cell_type": "code",
   "execution_count": null,
   "metadata": {
    "id": "4vPJD3Hg_sn4"
   },
   "outputs": [],
   "source": [
    "letters = \"@ABCDEFGHIJKLMNOPQRSTUVWXYZАБВГДЕЁЖЗИЙКЛМНОПРСТУФХЦЧШЩЪЫЬЭЮЯ0123456789.,!? -\"\n",
    "LETTERS_FOR_RANDOM = \"АБВГДЕЁЖЗИЙКЛМНОПРСТУФХЦЧШЩЪЫЬЭЮЯ0123456789.,!?    -\"\n",
    "dictSize = len(letters)\n",
    "maxlen = 50\n",
    "print(\"Total letters: \" + str(dictSize))\n",
    "\n",
    "SEX_DICT = {'unknown': 0, 'Мужчины': 1, 'Женщины': 2}\n",
    "SEX_DICT_REVERSE = {0: 'unknown', 1: 'Мужчины', 2: 'Женщины'}\n",
    "\n",
    "\n",
    "def sparse(n, size):\n",
    "    out = [0.0] * size\n",
    "    if int(n) >= size:\n",
    "        print(\"{} {}\".format(n, size))\n",
    "    out[int(n)] = 1.0\n",
    "    return out\n",
    "\n",
    "def chartoindex(c):\n",
    "    c = c.upper()\n",
    "    if (c not in letters):\n",
    "        print(\"Incorrect letter: \" + c)\n",
    "        return 0\n",
    "    return letters.index(c)\n",
    "\n",
    "\n",
    "def word2input(word, maxsize):\n",
    "    word = word.upper()\n",
    "    word = re.sub('[^0-9A-ZА-Я ]+', '', word)\n",
    "    input = list(map(lambda c: sparse(chartoindex(c), dictSize), word.upper().replace(\" \", \"\")))\n",
    "    input += [sparse(dictSize - 1, dictSize)] * (maxsize - len(input))\n",
    "    return list(input)\n",
    "\n",
    "def loadFile(file):\n",
    "    with open(file, encoding='utf-8') as fp:\n",
    "        data = csv.reader(fp, delimiter=',')\n",
    "        data = list(data)\n",
    "        return data\n",
    "\n",
    "def getPatch(data, count):\n",
    "    print(\"Preparing dataSet...\")\n",
    "    max_input = 0\n",
    "    sexOutput = list()\n",
    "    input = list()\n",
    "    stopWords = stopwords.words('russian')\n",
    "    counter = 0\n",
    "\n",
    "    shuffle(data)\n",
    "    for row in data:\n",
    "        if (counter > count):\n",
    "            break\n",
    "        if (row[3].strip() in SEX_DICT ):\n",
    "            max_input = max(max_input, len(row[0]))\n",
    "\n",
    "            r = randint(0, 10)\n",
    "            r2 = randint(0, 1)\n",
    "            if r < 7:\n",
    "                if r == 0:\n",
    "                    text = row[1].strip()\n",
    "                elif r < 4:\n",
    "                    if (r2 == 0):\n",
    "                        text = (row[0] + \" \" + row[1] + \" \" + row[2]).strip()\n",
    "                    else:\n",
    "                        text = (row[1] + \" \" + row[0] + \" \" + row[2]).strip()\n",
    "                elif r < 6:\n",
    "                    if (r2 == 0):\n",
    "                        text = (row[0] + \" \" + row[1]).strip()\n",
    "                    else:\n",
    "                        text = (row[1] + \" \" + row[0]).strip()\n",
    "                else:\n",
    "                    if (r2 == 0):\n",
    "                        text = (row[1] + \" \" + row[2]).strip()\n",
    "                    else:\n",
    "                        text = (row[2] + \" \" + row[1]).strip()\n",
    "\n",
    "                if len(text) < maxlen:\n",
    "                    input.append(word2input(text, maxlen))\n",
    "                    sexOutput.append(sparse(SEX_DICT[row[3].strip()], len(SEX_DICT)))\n",
    "            else:\n",
    "                if r == 7:\n",
    "                    text = random.choice(stopWords)\n",
    "                elif r == 8:\n",
    "                    text = random.choice(stopWords) + \" \" + random.choice(stopWords)\n",
    "                elif r == 9: # Random string\n",
    "                    N = r = randint(2, 15)\n",
    "                    text = ''.join(random.choices(LETTERS_FOR_RANDOM, k=N))\n",
    "                else:\n",
    "                    text = random.choice(stopWords) + \" \" + random.choice(stopWords) + \" \" + random.choice(stopWords)\n",
    "                text = text.strip().upper()\n",
    "                if len(text) < maxlen:\n",
    "                    input.append(word2input(text, maxlen))\n",
    "                    sexOutput.append(sparse(SEX_DICT[\"unknown\"], len(SEX_DICT)))\n",
    "\n",
    "            counter += 1\n",
    "            if (counter % 30000 == 0):\n",
    "                print(text)\n",
    "\n",
    "    x = np.array(input)\n",
    "    x = x.astype('float32')\n",
    "    slices = [int(0.8 * len(x)), len(x)]\n",
    "    x_train, x_test, _ = np.split(x, slices)\n",
    "    action_output_train, action_output_test,            _ = np.split(sexOutput, slices)\n",
    "\n",
    "    return [x_train, x_test,\n",
    "            action_output_train, action_output_test]"
   ]
  },
  {
   "cell_type": "markdown",
   "metadata": {
    "id": "g34ekJREZ3qK"
   },
   "source": [
    "#@Преобразование данных\n"
   ]
  },
  {
   "cell_type": "markdown",
   "metadata": {
    "id": "9EqswUTmZ_9c"
   },
   "source": [
    "Добавление пола"
   ]
  },
  {
   "cell_type": "code",
   "execution_count": null,
   "metadata": {
    "id": "sTBBCGnTl9np"
   },
   "outputs": [],
   "source": [
    "gender = pd.DataFrame()\n",
    "gender['Клиент'] = df['Клиент'].unique()\n",
    "gender['Пол'] = gender.apply(lambda x: 'Гость' if str(x.Клиент)=='Гость' else predict(model, str(x.Клиент)), axis = 1)\n",
    "gender = gender.set_index('Клиент')\n",
    "gender = gender.to_dict()['Пол']\n",
    "df['Пол'] = df.apply(lambda x: gender[x.Клиент], axis = 1)"
   ]
  },
  {
   "cell_type": "markdown",
   "metadata": {
    "id": "RzAb9TzJaLIb"
   },
   "source": [
    "Удаление ненужных столбцов"
   ]
  },
  {
   "cell_type": "code",
   "execution_count": null,
   "metadata": {
    "id": "NLqVDf8y1oRA"
   },
   "outputs": [],
   "source": [
    "df.drop(columns=['ГородМагазина', 'МагазинЗаказа'])"
   ]
  },
  {
   "cell_type": "markdown",
   "metadata": {
    "id": "UMp9K7kvaVs4"
   },
   "source": [
    "Преобразование номенклатуры 'Доставка'"
   ]
  },
  {
   "cell_type": "code",
   "execution_count": null,
   "metadata": {
    "id": "TqfAsRvUiHLP"
   },
   "outputs": [],
   "source": [
    "delivery_cheque = df[df.Номенклатура == 'Доставка'].НомерЗаказаНаСайте.to_list()\n",
    "delivery_cheque = pd.DataFrame(data=delivery_cheque)\n",
    "delivery_cheque[1] = 1\n",
    "delivery_cheque\n",
    "df = df.merge(delivery_cheque, left_on = 'НомерЗаказаНаСайте', right_on = 0, how = 'left')\n",
    "df = df.drop(columns=[0])\n",
    "df = df.rename(columns={1:'Доставка'})\n",
    "df = df.fillna(0)"
   ]
  },
  {
   "cell_type": "code",
   "execution_count": null,
   "metadata": {
    "id": "RMv3_yhiaRdq"
   },
   "outputs": [],
   "source": [
    "df"
   ]
  },
  {
   "cell_type": "code",
   "execution_count": null,
   "metadata": {
    "id": "Qd7-JbvPqpLb"
   },
   "outputs": [],
   "source": [
    "region = pd.read_excel(\"goroda.xlsx\", sheet_name='зп+население')\n",
    "df = df.merge(region[['address', 'dolgota']], left_on=['Регион'], right_on=[region.columns.values[1]], how='left')\n",
    "df = df.rename(columns={'address':'РегионЗона'})\n",
    "df = df.drop(columns=['dolgota'],axis=1)"
   ]
  },
  {
   "cell_type": "code",
   "execution_count": null,
   "metadata": {
    "id": "8zdc71oW2t2c"
   },
   "outputs": [],
   "source": [
    "df['РегионЗона'].value_counts()"
   ]
  },
  {
   "cell_type": "markdown",
   "metadata": {
    "id": "2nQwKflXaj5A"
   },
   "source": [
    "Добавление параметра производителя"
   ]
  },
  {
   "cell_type": "code",
   "execution_count": null,
   "metadata": {
    "id": "yZzFZ0ANanMr"
   },
   "outputs": [],
   "source": [
    "df['Компания'] = df.apply(lambda x: x.Номенклатура.replace('.', ',').split(',')[0] , axis = 1)"
   ]
  },
  {
   "cell_type": "code",
   "execution_count": null,
   "metadata": {
    "id": "uTWSjtLPxfmK"
   },
   "outputs": [],
   "source": [
    "df['Маржа'] = df['Маржа'].astype(str)\n",
    "df['Маржа'] = df['Маржа'].apply(lambda x: x.replace(',', '.'))\n",
    "df['Маржа'] = df['Маржа'].apply(lambda x: x.replace(' ', ''))\n",
    "df['Маржа'] = df['Маржа'].astype(float)"
   ]
  },
  {
   "cell_type": "code",
   "execution_count": null,
   "metadata": {
    "id": "H7gEITovxft4"
   },
   "outputs": [],
   "source": [
    "df['СуммаСтроки'] = df['СуммаСтроки'].astype(str)\n",
    "df['СуммаСтроки'] = df['СуммаСтроки'].apply(lambda x: x.replace(',', '.'))\n",
    "df['СуммаСтроки'] = df['СуммаСтроки'].apply(lambda x: x.replace(' ', ''))\n",
    "df['СуммаСтроки'] = df['СуммаСтроки'].astype(float)"
   ]
  },
  {
   "cell_type": "code",
   "execution_count": null,
   "metadata": {
    "id": "gryDWbW9xfxe"
   },
   "outputs": [],
   "source": [
    "df['ЦенаЗакупки'] = df['ЦенаЗакупки'].astype(str)\n",
    "df['ЦенаЗакупки'] = df['ЦенаЗакупки'].apply(lambda x: x.replace(',', '.'))\n",
    "df['ЦенаЗакупки'] = df['ЦенаЗакупки'].apply(lambda x: x.replace(' ', ''))\n",
    "df['ЦенаЗакупки'] = df['ЦенаЗакупки'].astype(float)"
   ]
  },
  {
   "cell_type": "code",
   "execution_count": null,
   "metadata": {
    "id": "agU4jU4krFpL"
   },
   "outputs": [],
   "source": [
    "df['СуммаЗаказаНаСайте'] = df['СуммаЗаказаНаСайте'].astype(str)\n",
    "df['СуммаЗаказаНаСайте'] = df['СуммаЗаказаНаСайте'].apply(lambda x: x.replace(',', '.'))\n",
    "df['СуммаЗаказаНаСайте'] = df['СуммаЗаказаНаСайте'].apply(lambda x: x.replace(' ', ''))\n",
    "df['СуммаЗаказаНаСайте'] = df['СуммаЗаказаНаСайте'].astype(float)"
   ]
  },
  {
   "cell_type": "code",
   "execution_count": null,
   "metadata": {
    "id": "cmDoBiOAtr6Y"
   },
   "outputs": [],
   "source": [
    "df['Цена'] = df['Цена'].astype(str)\n",
    "df['Цена'] = df['Цена'].apply(lambda x: x.replace(',', '.'))\n",
    "df['Цена'] = df['Цена'].apply(lambda x: x.replace(' ', ''))\n",
    "df['Цена'] = df['Цена'].astype(float)"
   ]
  },
  {
   "cell_type": "code",
   "execution_count": null,
   "metadata": {
    "id": "rkB75PnNvxUl"
   },
   "outputs": [],
   "source": [
    "df['ЦенаЗакупки'] = df['ЦенаЗакупки'].astype(str)\n",
    "df['ЦенаЗакупки'] = df['ЦенаЗакупки'].apply(lambda x: x.replace(',', '.'))\n",
    "df['ЦенаЗакупки'] = df['ЦенаЗакупки'].apply(lambda x: x.replace(' ', ''))\n",
    "df['ЦенаЗакупки'] = df['ЦенаЗакупки'].astype(float)"
   ]
  },
  {
   "cell_type": "markdown",
   "metadata": {
    "id": "Rhq99LFYa4TW"
   },
   "source": [
    "Удаление подозрительных строк"
   ]
  },
  {
   "cell_type": "code",
   "execution_count": null,
   "metadata": {
    "id": "X3KRBd3sa3c1"
   },
   "outputs": [],
   "source": [
    "df = df.drop(df[df.Телефон_new == '0'].index)\n",
    "df = df.drop(df[df.ПричинаОтмены == '1.4 Ошибка выбора, будет новый заказ'].index)\n",
    "df = df.drop(df[df.ПричинаОтмены == '1.1 Тест, контрольная закупка'].index)\n",
    "df = df.drop(df[df.Маржа == 0].index)\n",
    "df = df.drop(df[df.СуммаДокумента == 0].index)\n",
    "df = df.drop(df[df.Количество == 0].index)\n",
    "df = df.drop(df[df.НовыйСтатус  == 'Отменен'].index)\n",
    "df = df.drop(df[df.НовыйСтатус  == 'Отменяется'].index)\n",
    "df = df.drop(df[df.НовыйСтатус  == 'Расформирован ПВЗ'].index)\n",
    "df = df.drop(df[df.НовыйСтатус  == 'Принят в ПВЗ'].index)\n",
    "df = df.drop(df[df.НовыйСтатус  == 'В резерве'].index)\n",
    "df = df.drop(df[df.НовыйСтатус  == 'Частичный возврат'].index)\n",
    "df = df.drop(df[df.НовыйСтатус  == 'Скомплектован Регион'].index)\n",
    "df = df.drop(df[df.НовыйСтатус  == 'Возврат'].index)\n",
    "df = df.drop(df[df.НовыйСтатус  == 'Отправлен в ПВЗ'].index)\n",
    "df = df.drop(df[df.НовыйСтатус  == 'Комплектация Регион'].index)\n",
    "df = df.drop(df[df.НовыйСтатус  == 'Передан в Регион'].index)\n",
    "df = df[df['РегионЗона'].notna()]\n",
    "df = df[df['Маржа'].notna()]\n",
    "df = df[df['Группа2'].notna()]\n",
    "df = df[df['Группа3'].notna()]\n",
    "df = df[df['Группа4'].notna()]\n",
    "df = df[df['Регион'].notna()]\n",
    "df = df[df['Цена'].notna()]\n",
    "df = df[df['СуммаСтроки'].notna()]\n",
    "df = df[df['ЦенаЗакупки'].notna()]\n",
    "df = df.drop(df[df.Маржа < -1000].index)\n",
    "df = df.drop(df[df.Маржа > 10000].index)\n",
    "df = df.drop(df[df.Цена < 10].index)\n",
    "df = df.drop(df[df.Количество > 20].index)\n",
    "df = df.drop_duplicates()"
   ]
  },
  {
   "cell_type": "code",
   "execution_count": null,
   "metadata": {
    "id": "jYlZiIvt2lJZ"
   },
   "outputs": [],
   "source": [
    "df.shape"
   ]
  },
  {
   "cell_type": "markdown",
   "metadata": {
    "id": "nb8I9g-zarnt"
   },
   "source": [
    "#Исследование данных"
   ]
  },
  {
   "cell_type": "code",
   "execution_count": null,
   "metadata": {
    "id": "V7I0ZOFy_hk7"
   },
   "outputs": [],
   "source": [
    "df.drop_duplicates(subset=['Телефон_new'])['Пол'].value_counts()"
   ]
  },
  {
   "cell_type": "code",
   "execution_count": null,
   "metadata": {
    "id": "Yq01VhWX5XdD"
   },
   "outputs": [],
   "source": [
    "df['Телефон_new'].value_counts()"
   ]
  },
  {
   "cell_type": "code",
   "execution_count": null,
   "metadata": {
    "id": "d9Ff62fEspna"
   },
   "outputs": [],
   "source": [
    "df.drop_duplicates(subset=['НомерЗаказаНаСайте'])['МетодДоставки'].value_counts()"
   ]
  },
  {
   "cell_type": "code",
   "execution_count": null,
   "metadata": {
    "id": "txzdGjHtHnVK"
   },
   "outputs": [],
   "source": [
    "df['НовыйСтатус'].value_counts()"
   ]
  },
  {
   "cell_type": "code",
   "execution_count": null,
   "metadata": {
    "id": "YdyrwjA_wEk1"
   },
   "outputs": [],
   "source": [
    "df['МаржаПроцентная'] = (df['СуммаСтроки'] - (df['ЦенаЗакупки'] * df['Количество']))/df['СуммаСтроки']"
   ]
  },
  {
   "cell_type": "markdown",
   "metadata": {
    "id": "5pMtp0Tvf46w"
   },
   "source": [
    "Исследование данных по компаниям"
   ]
  },
  {
   "cell_type": "code",
   "execution_count": null,
   "metadata": {
    "id": "tpsLeheJXvOT"
   },
   "outputs": [],
   "source": [
    "companies = df['Компания'].value_counts().to_frame()\n",
    "companies = companies.drop(companies[companies.Компания < 1].index)\n",
    "companies['Название'] = companies.index\n",
    "companies = companies.reset_index(drop=True)\n",
    "companies.rename(columns={\"Компания\": \"ПроданоТоваров\"}, inplace=True)"
   ]
  },
  {
   "cell_type": "code",
   "execution_count": null,
   "metadata": {
    "id": "mNPR7v-0eDqn"
   },
   "outputs": [],
   "source": [
    "companies['МаржаСредняя'] = companies.apply(lambda x: df[df.Компания == x.Название].Маржа.mean(axis=0), axis = 1)"
   ]
  },
  {
   "cell_type": "code",
   "execution_count": null,
   "metadata": {
    "id": "LxFf43-7xpFn"
   },
   "outputs": [],
   "source": [
    "df = df.drop(df[df['МаржаПроцентная'] == -np.inf].index)"
   ]
  },
  {
   "cell_type": "code",
   "execution_count": null,
   "metadata": {
    "id": "K1B8_BVem2w2"
   },
   "outputs": [],
   "source": [
    "companies.to_csv('компании.csv', sep=';', encoding='cp1251')"
   ]
  },
  {
   "cell_type": "code",
   "execution_count": null,
   "metadata": {
    "id": "9jjf7rza0Nlz"
   },
   "outputs": [],
   "source": [
    "df['Маржа'].astype(float).sum()"
   ]
  },
  {
   "cell_type": "code",
   "execution_count": null,
   "metadata": {
    "id": "aVBfCifc0wle"
   },
   "outputs": [],
   "source": [
    "pd.set_option('display.float_format', lambda x: '%.5f' % x)"
   ]
  },
  {
   "cell_type": "markdown",
   "metadata": {
    "id": "QSbTjOWJxi2I"
   },
   "source": [
    "#Сводники"
   ]
  },
  {
   "cell_type": "markdown",
   "metadata": {
    "id": "B9VBOkcUcmNc"
   },
   "source": [
    "**По месяцам**"
   ]
  },
  {
   "cell_type": "markdown",
   "metadata": {
    "id": "dHbX3UTgxplh"
   },
   "source": [
    "*Размещенные товары*"
   ]
  },
  {
   "cell_type": "markdown",
   "metadata": {
    "id": "oPOblxGaLh4X"
   },
   "source": [
    "Выручка, маржа, количество"
   ]
  },
  {
   "cell_type": "code",
   "execution_count": null,
   "metadata": {
    "id": "tHXMF10Dxvz3"
   },
   "outputs": [],
   "source": [
    "df.groupby('МесяцДатыЗаказа').sum()"
   ]
  },
  {
   "cell_type": "markdown",
   "metadata": {
    "id": "d-GhYgxWL44X"
   },
   "source": [
    "Выручка"
   ]
  },
  {
   "cell_type": "code",
   "execution_count": null,
   "metadata": {
    "id": "H83DUeqHn0It"
   },
   "outputs": [],
   "source": [
    "df['СуммаСтроки'].sum()"
   ]
  },
  {
   "cell_type": "markdown",
   "metadata": {
    "id": "URuDUWdpMHa4"
   },
   "source": [
    "Маржа"
   ]
  },
  {
   "cell_type": "code",
   "execution_count": null,
   "metadata": {
    "id": "7EazgY-OoORv"
   },
   "outputs": [],
   "source": [
    "df['Маржа'].sum()"
   ]
  },
  {
   "cell_type": "markdown",
   "metadata": {
    "id": "9abILjpDMS4C"
   },
   "source": [
    "Количество"
   ]
  },
  {
   "cell_type": "code",
   "execution_count": null,
   "metadata": {
    "id": "Ka2lyhj6pD2e"
   },
   "outputs": [],
   "source": [
    "df['Количество'].sum()"
   ]
  },
  {
   "cell_type": "markdown",
   "metadata": {
    "id": "MKhW7mTTMh3e"
   },
   "source": [
    "Уникальные заказы, уникальные клиенты"
   ]
  },
  {
   "cell_type": "code",
   "execution_count": null,
   "metadata": {
    "id": "bQAKjD5M2ogu"
   },
   "outputs": [],
   "source": [
    "df.groupby('МесяцДатыЗаказа').nunique()"
   ]
  },
  {
   "cell_type": "markdown",
   "metadata": {
    "id": "kbi8KjdAM0UN"
   },
   "source": [
    "Уникальные заказы, уникальные клиенты"
   ]
  },
  {
   "cell_type": "code",
   "execution_count": null,
   "metadata": {
    "id": "svbQCi5SfWAO"
   },
   "outputs": [],
   "source": [
    "df.nunique()"
   ]
  },
  {
   "cell_type": "markdown",
   "metadata": {
    "id": "ACnVRQw6NV7K"
   },
   "source": [
    "Маржа процентная\n"
   ]
  },
  {
   "cell_type": "code",
   "execution_count": null,
   "metadata": {
    "id": "3hqXqGgZECig"
   },
   "outputs": [],
   "source": [
    "df.groupby('МесяцДатыЗаказа').mean()"
   ]
  },
  {
   "cell_type": "markdown",
   "metadata": {
    "id": "VSXxt5zdNqgO"
   },
   "source": [
    "Маржа процентная\n"
   ]
  },
  {
   "cell_type": "code",
   "execution_count": null,
   "metadata": {
    "id": "NRNoM7y4JPqs"
   },
   "outputs": [],
   "source": [
    "df['МаржаПроцентная'].mean()"
   ]
  },
  {
   "cell_type": "markdown",
   "metadata": {
    "id": "HeFGifi5Nv_A"
   },
   "source": [
    "Средний чек"
   ]
  },
  {
   "cell_type": "code",
   "execution_count": null,
   "metadata": {
    "id": "MXuiW4KAeW1P"
   },
   "outputs": [],
   "source": [
    "df.drop_duplicates(subset=['НомерЗаказаНаСайте']).groupby('МесяцДатыЗаказа').mean()"
   ]
  },
  {
   "cell_type": "markdown",
   "metadata": {
    "id": "xoOvTA5eN_XK"
   },
   "source": [
    "Средний чек"
   ]
  },
  {
   "cell_type": "code",
   "execution_count": null,
   "metadata": {
    "id": "vOF5VpZJpUxw"
   },
   "outputs": [],
   "source": [
    "df.drop_duplicates(subset=['НомерЗаказаНаСайте'])['СуммаЗаказаНаСайте'].mean()"
   ]
  },
  {
   "cell_type": "markdown",
   "metadata": {
    "id": "XZYucbk8ONHm"
   },
   "source": [
    "Среднее количество товаров"
   ]
  },
  {
   "cell_type": "code",
   "execution_count": null,
   "metadata": {
    "id": "nvvkNQ0MgvUr"
   },
   "outputs": [],
   "source": [
    "df[df['МесяцДатыЗаказа'] == 7].groupby('НомерЗаказаНаСайте').sum()['Количество'].mean()"
   ]
  },
  {
   "cell_type": "markdown",
   "metadata": {
    "id": "Izg-M-VjOUOG"
   },
   "source": [
    "Среднее количество товаров"
   ]
  },
  {
   "cell_type": "code",
   "execution_count": null,
   "metadata": {
    "id": "Gfb2zZsUza26"
   },
   "outputs": [],
   "source": [
    "df[df['МесяцДатыЗаказа'] == 8].groupby('НомерЗаказаНаСайте').sum()['Количество'].mean()"
   ]
  },
  {
   "cell_type": "markdown",
   "metadata": {
    "id": "yiYhGrFzOVvO"
   },
   "source": [
    "Среднее количество товаров"
   ]
  },
  {
   "cell_type": "code",
   "execution_count": null,
   "metadata": {
    "id": "rLHBvdAK0cQc"
   },
   "outputs": [],
   "source": [
    "df.groupby('НомерЗаказаНаСайте').sum()['Количество'].mean()"
   ]
  },
  {
   "cell_type": "markdown",
   "metadata": {
    "id": "F_NvZkSBO_kU"
   },
   "source": [
    "*Выкупленные товары*"
   ]
  },
  {
   "cell_type": "code",
   "execution_count": null,
   "metadata": {
    "id": "Qz-eQalNxoGg"
   },
   "outputs": [],
   "source": [
    "df_bought = df[df.КоличествоПроданоКлиенту != 0]\n",
    "df_bought['Итог'] = df_bought['Цена'] * df_bought['КоличествоПроданоКлиенту']"
   ]
  },
  {
   "cell_type": "code",
   "execution_count": null,
   "metadata": {
    "id": "oObGTImsYaa1"
   },
   "outputs": [],
   "source": [
    "df_bought.shape"
   ]
  },
  {
   "cell_type": "markdown",
   "metadata": {
    "id": "YCInNgUbRD6c"
   },
   "source": [
    "Выручка, маржа, количество"
   ]
  },
  {
   "cell_type": "code",
   "execution_count": null,
   "metadata": {
    "id": "tynTPLsKQAUa"
   },
   "outputs": [],
   "source": [
    "df_bought.groupby('МесяцДатыЗаказа').sum()"
   ]
  },
  {
   "cell_type": "markdown",
   "metadata": {
    "id": "Mm6-K_xVQvOI"
   },
   "source": [
    "Выручка"
   ]
  },
  {
   "cell_type": "code",
   "execution_count": null,
   "metadata": {
    "id": "fwb-Ve8nQgSl"
   },
   "outputs": [],
   "source": [
    "df_bought['Итог'].sum()"
   ]
  },
  {
   "cell_type": "markdown",
   "metadata": {
    "id": "1Qkv-PFeQv9A"
   },
   "source": [
    "Маржа"
   ]
  },
  {
   "cell_type": "code",
   "execution_count": null,
   "metadata": {
    "id": "bvYtMGpiQsV3"
   },
   "outputs": [],
   "source": [
    "df_bought['Маржа'].sum()"
   ]
  },
  {
   "cell_type": "markdown",
   "metadata": {
    "id": "jFj7SD_1QwpU"
   },
   "source": [
    "Количество"
   ]
  },
  {
   "cell_type": "code",
   "execution_count": null,
   "metadata": {
    "id": "Wse1KcEtQsYx"
   },
   "outputs": [],
   "source": [
    "df_bought['КоличествоПроданоКлиенту'].sum()"
   ]
  },
  {
   "cell_type": "markdown",
   "metadata": {
    "id": "H_4JMLqNR5ex"
   },
   "source": [
    "Маржа процентная месяц 7"
   ]
  },
  {
   "cell_type": "code",
   "execution_count": null,
   "metadata": {
    "id": "1dQCwdd4R5oV"
   },
   "outputs": [],
   "source": [
    "((df_bought[df_bought.МесяцДатыЗаказа == 7]['Цена'] * df_bought[df_bought.МесяцДатыЗаказа == 7]['КоличествоПроданоКлиенту'] - (df_bought[df_bought.МесяцДатыЗаказа == 7]['ЦенаЗакупки'] * df_bought[df_bought.МесяцДатыЗаказа == 7]['КоличествоПроданоКлиенту']))/df_bought[df_bought.МесяцДатыЗаказа == 7]['СуммаСтроки']).mean()"
   ]
  },
  {
   "cell_type": "markdown",
   "metadata": {
    "id": "k2Sk8HZHSjzU"
   },
   "source": [
    "Маржа процентная месяц 8\n"
   ]
  },
  {
   "cell_type": "code",
   "execution_count": null,
   "metadata": {
    "id": "aiEtN4l0SkBx"
   },
   "outputs": [],
   "source": [
    "((df_bought[df_bought.МесяцДатыЗаказа == 8]['Цена'] * df_bought[df_bought.МесяцДатыЗаказа == 8]['КоличествоПроданоКлиенту'] - (df_bought[df_bought.МесяцДатыЗаказа == 8]['ЦенаЗакупки'] * df_bought[df_bought.МесяцДатыЗаказа == 8]['КоличествоПроданоКлиенту']))/df_bought[df_bought.МесяцДатыЗаказа == 8]['СуммаСтроки']).mean()"
   ]
  },
  {
   "cell_type": "markdown",
   "metadata": {
    "id": "DnKPv46qSARP"
   },
   "source": [
    "Маржа процентная"
   ]
  },
  {
   "cell_type": "code",
   "execution_count": null,
   "metadata": {
    "id": "JvaBATesSAY3"
   },
   "outputs": [],
   "source": [
    "((df_bought['Цена'] * df_bought['КоличествоПроданоКлиенту'] - (df_bought['ЦенаЗакупки'] * df_bought['КоличествоПроданоКлиенту']))/df_bought['СуммаСтроки']).mean()"
   ]
  },
  {
   "cell_type": "markdown",
   "metadata": {
    "id": "1rjd9vFaUKhj"
   },
   "source": [
    "Уникальные заказы, уникальные клиенты"
   ]
  },
  {
   "cell_type": "code",
   "execution_count": null,
   "metadata": {
    "id": "93VVKozcxne2"
   },
   "outputs": [],
   "source": [
    "df_bought.groupby('МесяцДатыЗаказа').nunique()"
   ]
  },
  {
   "cell_type": "markdown",
   "metadata": {
    "id": "Aj7kGTS8UQrz"
   },
   "source": [
    "Уникальные заказы, уникальные клиенты"
   ]
  },
  {
   "cell_type": "code",
   "execution_count": null,
   "metadata": {
    "id": "s1LsENCAUSq7"
   },
   "outputs": [],
   "source": [
    "df_bought.nunique()"
   ]
  },
  {
   "cell_type": "markdown",
   "metadata": {
    "id": "_MQRc1GRVjn9"
   },
   "source": [
    "Средний чек"
   ]
  },
  {
   "cell_type": "code",
   "execution_count": null,
   "metadata": {
    "id": "MDrZCRk6Vjx9"
   },
   "outputs": [],
   "source": [
    "df_bought[df_bought['МесяцДатыЗаказа'] == 7].groupby('НомерЗаказаНаСайте').sum().mean()"
   ]
  },
  {
   "cell_type": "markdown",
   "metadata": {
    "id": "BXYKUxP4Vj98"
   },
   "source": [
    "Средний чек"
   ]
  },
  {
   "cell_type": "code",
   "execution_count": null,
   "metadata": {
    "id": "6nj-VbKbVkEy"
   },
   "outputs": [],
   "source": [
    "df_bought[df_bought['МесяцДатыЗаказа'] == 8].groupby('НомерЗаказаНаСайте').sum().mean()"
   ]
  },
  {
   "cell_type": "markdown",
   "metadata": {
    "id": "uIVt8mLJVgV4"
   },
   "source": [
    "Средний чек"
   ]
  },
  {
   "cell_type": "code",
   "execution_count": null,
   "metadata": {
    "id": "BoZJ2yIT4n-7"
   },
   "outputs": [],
   "source": [
    "df_bought.groupby('НомерЗаказаНаСайте').sum().mean()"
   ]
  },
  {
   "cell_type": "code",
   "execution_count": null,
   "metadata": {
    "id": "DPu_wscKqoPb"
   },
   "outputs": [],
   "source": [
    "df[df['МесяцДатыЗаказа'] == 7].groupby('НомерЗаказаНаСайте').sum()['КоличествоПроданоКлиенту'].mean()"
   ]
  },
  {
   "cell_type": "code",
   "execution_count": null,
   "metadata": {
    "id": "KMR-DCyYzc4y"
   },
   "outputs": [],
   "source": [
    "df[df['МесяцДатыЗаказа'] == 8].groupby('НомерЗаказаНаСайте').sum()['КоличествоПроданоКлиенту'].mean()"
   ]
  },
  {
   "cell_type": "code",
   "execution_count": null,
   "metadata": {
    "id": "RjjP9r1UzhON"
   },
   "outputs": [],
   "source": [
    "df.groupby('НомерЗаказаНаСайте').sum()['КоличествоПроданоКлиенту'].mean()"
   ]
  },
  {
   "cell_type": "code",
   "execution_count": null,
   "metadata": {
    "id": "8NYOVzSO1Klu"
   },
   "outputs": [],
   "source": [
    "(df.groupby('Телефон_new')['Цена'].sum() / df.groupby('Телефон_new')['Количество'].sum())"
   ]
  },
  {
   "cell_type": "markdown",
   "metadata": {
    "id": "nOPF0MW8cT7T"
   },
   "source": [
    "**По группам**"
   ]
  },
  {
   "cell_type": "markdown",
   "metadata": {
    "id": "UMEp53nqv5bK"
   },
   "source": [
    "Выручка, маржа, количество"
   ]
  },
  {
   "cell_type": "code",
   "execution_count": null,
   "metadata": {
    "id": "m-iQ1q_-v5bK"
   },
   "outputs": [],
   "source": [
    "df.groupby('Группа2').sum()"
   ]
  },
  {
   "cell_type": "markdown",
   "metadata": {
    "id": "6ckZEuDjv5bL"
   },
   "source": [
    "Выручка"
   ]
  },
  {
   "cell_type": "code",
   "execution_count": null,
   "metadata": {
    "id": "AMERNPDNv5bM"
   },
   "outputs": [],
   "source": [
    "df['СуммаСтроки'].sum()"
   ]
  },
  {
   "cell_type": "markdown",
   "metadata": {
    "id": "ECxHdBeUv5bM"
   },
   "source": [
    "Маржа"
   ]
  },
  {
   "cell_type": "code",
   "execution_count": null,
   "metadata": {
    "id": "6AFiuv9Kv5bM"
   },
   "outputs": [],
   "source": [
    "df['Маржа'].sum()"
   ]
  },
  {
   "cell_type": "markdown",
   "metadata": {
    "id": "sNww9KvAv5bM"
   },
   "source": [
    "Количество"
   ]
  },
  {
   "cell_type": "code",
   "execution_count": null,
   "metadata": {
    "id": "cVtMRsmpv5bN"
   },
   "outputs": [],
   "source": [
    "df['Количество'].sum()"
   ]
  },
  {
   "cell_type": "markdown",
   "metadata": {
    "id": "FBDSfhs-v5bN"
   },
   "source": [
    "Уникальные заказы, уникальные клиенты"
   ]
  },
  {
   "cell_type": "code",
   "execution_count": null,
   "metadata": {
    "id": "pgRnHztgv5bN"
   },
   "outputs": [],
   "source": [
    "df.groupby('Группа2').nunique()"
   ]
  },
  {
   "cell_type": "markdown",
   "metadata": {
    "id": "6FyLph6cv5bN"
   },
   "source": [
    "Уникальные заказы, уникальные клиенты"
   ]
  },
  {
   "cell_type": "code",
   "execution_count": null,
   "metadata": {
    "id": "BVLeoAbjv5bO"
   },
   "outputs": [],
   "source": [
    "df.nunique()"
   ]
  },
  {
   "cell_type": "markdown",
   "metadata": {
    "id": "wFWnZVnUv5bO"
   },
   "source": [
    "Маржа процентная\n"
   ]
  },
  {
   "cell_type": "code",
   "execution_count": null,
   "metadata": {
    "id": "McjKnMdtv5bO"
   },
   "outputs": [],
   "source": [
    "df.groupby('Группа2').mean()['МаржаПроцентная']"
   ]
  },
  {
   "cell_type": "markdown",
   "metadata": {
    "id": "Wb2-IpESv5bO"
   },
   "source": [
    "Маржа процентная\n"
   ]
  },
  {
   "cell_type": "code",
   "execution_count": null,
   "metadata": {
    "id": "9h_fvOcrv5bO"
   },
   "outputs": [],
   "source": [
    "df['МаржаПроцентная'].mean()"
   ]
  },
  {
   "cell_type": "markdown",
   "metadata": {
    "id": "gsOqdFssv5bP"
   },
   "source": [
    "Средний чек"
   ]
  },
  {
   "cell_type": "code",
   "execution_count": null,
   "metadata": {
    "id": "dhuP5Znfv5bP"
   },
   "outputs": [],
   "source": [
    "df.drop_duplicates(subset=['НомерЗаказаНаСайте']).groupby('Группа2').mean()['СуммаЗаказаНаСайте']"
   ]
  },
  {
   "cell_type": "markdown",
   "metadata": {
    "id": "289wMGjuv5bQ"
   },
   "source": [
    "Средний чек"
   ]
  },
  {
   "cell_type": "code",
   "execution_count": null,
   "metadata": {
    "id": "vACDTRDYv5bQ"
   },
   "outputs": [],
   "source": [
    "df.drop_duplicates(subset=['НомерЗаказаНаСайте'])['СуммаЗаказаНаСайте'].mean()"
   ]
  },
  {
   "cell_type": "markdown",
   "metadata": {
    "id": "BjuECY82v5bR"
   },
   "source": [
    "Среднее количество товаров"
   ]
  },
  {
   "cell_type": "code",
   "execution_count": null,
   "metadata": {
    "id": "vEXbclWQv5bR"
   },
   "outputs": [],
   "source": [
    "df[df['Группа2'] == 'ДЕТСКОЕ ПИТАНИЕ'].groupby('НомерЗаказаНаСайте').sum()['Количество'].mean()"
   ]
  },
  {
   "cell_type": "markdown",
   "metadata": {
    "id": "QIpQVWOTv5bR"
   },
   "source": [
    "Среднее количество товаров"
   ]
  },
  {
   "cell_type": "code",
   "execution_count": null,
   "metadata": {
    "id": "FqucVDjpv5bR"
   },
   "outputs": [],
   "source": [
    "df[df['Группа2'] == 'ЖЕНСКИЕ ШТУЧКИ'].groupby('НомерЗаказаНаСайте').sum()['Количество'].mean()"
   ]
  },
  {
   "cell_type": "markdown",
   "metadata": {
    "id": "rAYriLKL1Ff5"
   },
   "source": [
    "Среднее количество товаров"
   ]
  },
  {
   "cell_type": "code",
   "execution_count": null,
   "metadata": {
    "id": "jvAPjjBR1FgB"
   },
   "outputs": [],
   "source": [
    "df[df['Группа2'] == 'ИГРУШКИ'].groupby('НомерЗаказаНаСайте').sum()['Количество'].mean()"
   ]
  },
  {
   "cell_type": "markdown",
   "metadata": {
    "id": "1YP-8gib1GaL"
   },
   "source": [
    "Среднее количество товаров"
   ]
  },
  {
   "cell_type": "code",
   "execution_count": null,
   "metadata": {
    "id": "AqtbCq2w1GaL"
   },
   "outputs": [],
   "source": [
    "df[df['Группа2'] == 'КАНЦТОВАРЫ, КНИГИ, ДИСКИ'].groupby('НомерЗаказаНаСайте').sum()['Количество'].mean()"
   ]
  },
  {
   "cell_type": "markdown",
   "metadata": {
    "id": "GVUhxe4c1GlD"
   },
   "source": [
    "Среднее количество товаров"
   ]
  },
  {
   "cell_type": "code",
   "execution_count": null,
   "metadata": {
    "id": "sjO9-tdD1GlD"
   },
   "outputs": [],
   "source": [
    "df[df['Группа2'] == 'КОСМЕТИКА/ГИГИЕНА'].groupby('НомерЗаказаНаСайте').sum()['Количество'].mean()"
   ]
  },
  {
   "cell_type": "markdown",
   "metadata": {
    "id": "UYDEZiYK1Gsz"
   },
   "source": [
    "Среднее количество товаров"
   ]
  },
  {
   "cell_type": "code",
   "execution_count": null,
   "metadata": {
    "id": "LHqYnNOW1Gsz"
   },
   "outputs": [],
   "source": [
    "df[df['Группа2'] == 'КРУПНОГАБАРИТНЫЙ ТОВАР'].groupby('НомерЗаказаНаСайте').sum()['Количество'].mean()"
   ]
  },
  {
   "cell_type": "markdown",
   "metadata": {
    "id": "ApwDLldw1G5b"
   },
   "source": [
    "Среднее количество товаров"
   ]
  },
  {
   "cell_type": "code",
   "execution_count": null,
   "metadata": {
    "id": "UxI13GkF1G5b"
   },
   "outputs": [],
   "source": [
    "df[df['Группа2'] == 'ОБУВЬ'].groupby('НомерЗаказаНаСайте').sum()['Количество'].mean()"
   ]
  },
  {
   "cell_type": "markdown",
   "metadata": {
    "id": "b_TmWEl21HD6"
   },
   "source": [
    "Среднее количество товаров"
   ]
  },
  {
   "cell_type": "code",
   "execution_count": null,
   "metadata": {
    "id": "3HNRh5Wl1HD7"
   },
   "outputs": [],
   "source": [
    "df[df['Группа2'] == 'ПОДГУЗНИКИ'].groupby('НомерЗаказаНаСайте').sum()['Количество'].mean()"
   ]
  },
  {
   "cell_type": "markdown",
   "metadata": {
    "id": "edOvJ1pf1HL7"
   },
   "source": [
    "Среднее количество товаров"
   ]
  },
  {
   "cell_type": "code",
   "execution_count": null,
   "metadata": {
    "id": "kPkYg5jI1HL7"
   },
   "outputs": [],
   "source": [
    "df[df['Группа2'] == 'СОПУТСТВУЮЩИЕ ТОВАРЫ'].groupby('НомерЗаказаНаСайте').sum()['Количество'].mean()"
   ]
  },
  {
   "cell_type": "markdown",
   "metadata": {
    "id": "vxt1KTD_1HUi"
   },
   "source": [
    "Среднее количество товаров"
   ]
  },
  {
   "cell_type": "code",
   "execution_count": null,
   "metadata": {
    "id": "d4p7TASK1HUj"
   },
   "outputs": [],
   "source": [
    "df[df['Группа2'] == 'ТЕКСТИЛЬ, ТРИКОТАЖ'].groupby('НомерЗаказаНаСайте').sum()['Количество'].mean()"
   ]
  },
  {
   "cell_type": "markdown",
   "metadata": {
    "id": "iQYSsQm41Hci"
   },
   "source": [
    "Среднее количество товаров"
   ]
  },
  {
   "cell_type": "code",
   "execution_count": null,
   "metadata": {
    "id": "n0mhVY051Hcj"
   },
   "outputs": [],
   "source": [
    "df[df['Группа2'] == 'ТЕХНИКА И ТОВАРЫ ДЛЯ ДОМА'].groupby('НомерЗаказаНаСайте').sum()['Количество'].mean()"
   ]
  },
  {
   "cell_type": "markdown",
   "metadata": {
    "id": "wbDCjpbz1Hji"
   },
   "source": [
    "Среднее количество товаров"
   ]
  },
  {
   "cell_type": "code",
   "execution_count": null,
   "metadata": {
    "id": "fSWDaRlL1Hji"
   },
   "outputs": [],
   "source": [
    "df[df['Группа2'] == 'ТОВАРЫ ДЛЯ ЖИВОТНЫХ'].groupby('НомерЗаказаНаСайте').sum()['Количество'].mean()"
   ]
  },
  {
   "cell_type": "markdown",
   "metadata": {
    "id": "hok4eREJ1HrK"
   },
   "source": [
    "Среднее количество товаров"
   ]
  },
  {
   "cell_type": "code",
   "execution_count": null,
   "metadata": {
    "id": "vwvbf8qd1HrK"
   },
   "outputs": [],
   "source": [
    "df[df['Группа2'] == 'ТОВАРЫ ДЛЯ КОРМЛЕНИЯ'].groupby('НомерЗаказаНаСайте').sum()['Количество'].mean()"
   ]
  },
  {
   "cell_type": "markdown",
   "metadata": {
    "id": "5WMHEH5Fv5bR"
   },
   "source": [
    "Среднее количество товаров"
   ]
  },
  {
   "cell_type": "code",
   "execution_count": null,
   "metadata": {
    "id": "2HHEGyGSv5bR"
   },
   "outputs": [],
   "source": [
    "df.groupby('НомерЗаказаНаСайте').sum()['Количество'].mean()"
   ]
  },
  {
   "cell_type": "markdown",
   "metadata": {
    "id": "R6nsLcoCb5lT"
   },
   "source": [
    "*По выкупленным товарам*"
   ]
  },
  {
   "cell_type": "markdown",
   "metadata": {
    "id": "CNnK25t8byIi"
   },
   "source": [
    "Выручка, маржа, количество"
   ]
  },
  {
   "cell_type": "code",
   "execution_count": null,
   "metadata": {
    "id": "zWV7nMwDbyIl"
   },
   "outputs": [],
   "source": [
    "df_bought.groupby('Группа2').sum()"
   ]
  },
  {
   "cell_type": "markdown",
   "metadata": {
    "id": "ywRq5ja4byIm"
   },
   "source": [
    "Выручка"
   ]
  },
  {
   "cell_type": "code",
   "execution_count": null,
   "metadata": {
    "id": "4hruOrqGbyIm"
   },
   "outputs": [],
   "source": [
    "df_bought['Итог'].sum()"
   ]
  },
  {
   "cell_type": "markdown",
   "metadata": {
    "id": "CiBaZqpPbyIm"
   },
   "source": [
    "Маржа"
   ]
  },
  {
   "cell_type": "code",
   "execution_count": null,
   "metadata": {
    "id": "1w--07LlbyIn"
   },
   "outputs": [],
   "source": [
    "df_bought['Маржа'].sum()"
   ]
  },
  {
   "cell_type": "markdown",
   "metadata": {
    "id": "Iowi2CtsbyIn"
   },
   "source": [
    "Количество"
   ]
  },
  {
   "cell_type": "code",
   "execution_count": null,
   "metadata": {
    "id": "ktNLXNSbbyIn"
   },
   "outputs": [],
   "source": [
    "df_bought['КоличествоПроданоКлиенту'].sum()"
   ]
  },
  {
   "cell_type": "markdown",
   "metadata": {
    "id": "6wkWfct5byIn"
   },
   "source": [
    "Маржа процентная"
   ]
  },
  {
   "cell_type": "code",
   "execution_count": null,
   "metadata": {
    "id": "_GQRuIg9byIo"
   },
   "outputs": [],
   "source": [
    "df_bought.groupby('Группа2').mean()['МаржаПроцентная']"
   ]
  },
  {
   "cell_type": "markdown",
   "metadata": {
    "id": "Zg7EmTFfbyIo"
   },
   "source": [
    "Маржа процентная"
   ]
  },
  {
   "cell_type": "code",
   "execution_count": null,
   "metadata": {
    "id": "Sbk-y8ccbyIp"
   },
   "outputs": [],
   "source": [
    "((df_bought['Цена'] * df_bought['КоличествоПроданоКлиенту'] - (df_bought['ЦенаЗакупки'] * df_bought['КоличествоПроданоКлиенту']))/df_bought['СуммаСтроки']).mean()"
   ]
  },
  {
   "cell_type": "markdown",
   "metadata": {
    "id": "WcWu3qqobyIp"
   },
   "source": [
    "Уникальные заказы, уникальные клиенты"
   ]
  },
  {
   "cell_type": "code",
   "execution_count": null,
   "metadata": {
    "id": "rwnRuw1UbyIp"
   },
   "outputs": [],
   "source": [
    "df_bought.groupby('Группа2').nunique()"
   ]
  },
  {
   "cell_type": "markdown",
   "metadata": {
    "id": "DY_4-7XjbyIp"
   },
   "source": [
    "Уникальные заказы, уникальные клиенты"
   ]
  },
  {
   "cell_type": "code",
   "execution_count": null,
   "metadata": {
    "id": "ACqkPxAybyIp"
   },
   "outputs": [],
   "source": [
    "df_bought.nunique()"
   ]
  },
  {
   "cell_type": "markdown",
   "metadata": {
    "id": "OWjanDJObyIq"
   },
   "source": [
    "Средний чек"
   ]
  },
  {
   "cell_type": "code",
   "execution_count": null,
   "metadata": {
    "id": "5J1THmZEbyIq"
   },
   "outputs": [],
   "source": [
    "df_bought[df_bought['Группа2'] == 'ДЕТСКОЕ ПИТАНИЕ'].groupby('Группа2').sum()"
   ]
  },
  {
   "cell_type": "markdown",
   "metadata": {
    "id": "QpQv4rwvbyIq"
   },
   "source": [
    "Средний чек"
   ]
  },
  {
   "cell_type": "code",
   "execution_count": null,
   "metadata": {
    "id": "gsVU7yRlbyIq"
   },
   "outputs": [],
   "source": [
    "df_bought[df_bought['Группа2'] == 'ТОВАРЫ ДЛЯ КОРМЛЕНИЯ'].groupby('НомерЗаказаНаСайте').sum().mean()"
   ]
  },
  {
   "cell_type": "markdown",
   "metadata": {
    "id": "IIIZtVlhbyIq"
   },
   "source": [
    "Средний чек"
   ]
  },
  {
   "cell_type": "code",
   "execution_count": null,
   "metadata": {
    "id": "TKkhjmF6byIr"
   },
   "outputs": [],
   "source": [
    "df_bought.groupby('НомерЗаказаНаСайте').sum().mean()"
   ]
  },
  {
   "cell_type": "code",
   "execution_count": null,
   "metadata": {
    "id": "g1Z-aGEzbyIr"
   },
   "outputs": [],
   "source": [
    "df[df['Группа2'] == 'ТОВАРЫ ДЛЯ КОРМЛЕНИЯ'].groupby('НомерЗаказаНаСайте').sum()['КоличествоПроданоКлиенту'].mean()"
   ]
  },
  {
   "cell_type": "code",
   "execution_count": null,
   "metadata": {
    "id": "Xt4yU_xMbyIr"
   },
   "outputs": [],
   "source": [
    "df[df['МесяцДатыЗаказа'] == 8].groupby('НомерЗаказаНаСайте').sum()['КоличествоПроданоКлиенту'].mean()"
   ]
  },
  {
   "cell_type": "code",
   "execution_count": null,
   "metadata": {
    "id": "dJY4IThHbyIs"
   },
   "outputs": [],
   "source": [
    "df.groupby('НомерЗаказаНаСайте').sum()['КоличествоПроданоКлиенту'].mean()"
   ]
  },
  {
   "cell_type": "code",
   "execution_count": null,
   "metadata": {
    "id": "Ca4a5BLjbyIt"
   },
   "outputs": [],
   "source": [
    "(df.groupby('Телефон_new')['Цена'].sum() / df.groupby('Телефон_new')['Количество'].sum())"
   ]
  },
  {
   "cell_type": "code",
   "execution_count": null,
   "metadata": {
    "id": "m12b4YnFGrVT"
   },
   "outputs": [],
   "source": [
    "display = pd.DataFrame()\n",
    "display['Id'] = df.drop_duplicates(subset='Телефон_new')['Телефон_new']\n",
    "display = display.reset_index(drop=True)\n",
    "df['МаржаПолная'] = df['Маржа'] * df['Количество']\n",
    "df_bought['МаржаПолнаяВыкупленная'] = df_bought['Маржа'] * df_bought['КоличествоПроданоКлиенту']"
   ]
  },
  {
   "cell_type": "code",
   "execution_count": null,
   "metadata": {
    "id": "aYWM9wvfT-YA"
   },
   "outputs": [],
   "source": [
    "mean_non_dupe = df.drop_duplicates(subset='НомерЗаказаНаСайте').groupby('Телефон_new').mean()\n",
    "unique = df.groupby('Телефон_new').nunique()\n",
    "mean =  df.groupby('Телефон_new').mean()\n",
    "sum = df.groupby('Телефон_new').sum()\n",
    "non_dupe = df.drop_duplicates(subset='НомерЗаказаНаСайте')"
   ]
  },
  {
   "cell_type": "code",
   "execution_count": null,
   "metadata": {
    "id": "tgP_fE8abETZ"
   },
   "outputs": [],
   "source": [
    "non_dupe"
   ]
  },
  {
   "cell_type": "code",
   "execution_count": null,
   "metadata": {
    "id": "UoV45YwqOy6C"
   },
   "outputs": [],
   "source": [
    "mean_non_dupe_bought = df_bought.groupby(['Телефон_new', 'НомерЗаказаНаСайте']).sum()['Итог'].groupby('Телефон_new').mean()\n",
    "unique_bought = df_bought.groupby('Телефон_new').nunique()\n",
    "mean_bought =  df_bought.groupby('Телефон_new').mean()\n",
    "sum_bought = df_bought.groupby('Телефон_new').sum()\n",
    "group2 = df_bought.groupby(['Телефон_new', 'Группа2']).sum()\n",
    "group3 = df_bought.groupby(['Телефон_new', 'Группа3']).sum()\n",
    "type = df_bought.groupby(['Телефон_new', 'Тип']).sum()\n",
    "self_carry =  df_bought[(df_bought['МетодДоставки'] == 'Самовывоз') | (df_bought['МетодДоставки'] == 'Pick point')].groupby('Телефон_new').sum()['КоличествоПроданоКлиенту'] / df_bought.groupby('Телефон_new').sum()['КоличествоПроданоКлиенту']"
   ]
  },
  {
   "cell_type": "code",
   "execution_count": null,
   "metadata": {
    "id": "qDmU6UyzbsB3"
   },
   "outputs": [],
   "source": [
    "display = display.merge(unique['НомерЗаказаНаСайте'], left_on='Id', right_on='Телефон_new', how = 'inner')\n",
    "display = display.rename(columns={'НомерЗаказаНаСайте':'КоличествоЧеков'})"
   ]
  },
  {
   "cell_type": "code",
   "execution_count": null,
   "metadata": {
    "id": "Cehn7xbLZ8Xf"
   },
   "outputs": [],
   "source": [
    "display = display.merge(mean_non_dupe['СуммаЗаказаНаСайте'], left_on='Id', right_on='Телефон_new', how = 'inner')\n",
    "display = display.rename(columns={'СуммаЗаказаНаСайте':'СреднийЧек'})"
   ]
  },
  {
   "cell_type": "code",
   "execution_count": null,
   "metadata": {
    "id": "kUjXFJkLaJAG"
   },
   "outputs": [],
   "source": [
    "display = display.merge(mean['Количество'], left_on='Id', right_on='Телефон_new', how = 'inner')\n",
    "display = display.rename(columns={'Количество':'СреднееЧислоТоваровЧека'})"
   ]
  },
  {
   "cell_type": "code",
   "execution_count": null,
   "metadata": {
    "id": "hpYO_C7EezZh"
   },
   "outputs": [],
   "source": [
    "display = display.merge(sum['СуммаСтроки'], left_on='Id', right_on='Телефон_new', how = 'inner')\n",
    "display = display.rename(columns={'СуммаСтроки':'Выручка'})"
   ]
  },
  {
   "cell_type": "code",
   "execution_count": null,
   "metadata": {
    "id": "k30GgoMAhrOS"
   },
   "outputs": [],
   "source": [
    "display = display.merge(sum['Количество'], left_on='Id', right_on='Телефон_new', how = 'inner')\n",
    "display = display.rename(columns={'Количество':'КоличествоТоваров'})"
   ]
  },
  {
   "cell_type": "code",
   "execution_count": null,
   "metadata": {
    "id": "xm0wsPJ1i1mx"
   },
   "outputs": [],
   "source": [
    "display = display.merge(mean['МаржаПолная'], left_on='Id', right_on='Телефон_new', how = 'inner')\n",
    "display = display.rename(columns={'МаржаПолная':'СредняяМаржа'})"
   ]
  },
  {
   "cell_type": "code",
   "execution_count": null,
   "metadata": {
    "id": "KtSknMeLdtk4"
   },
   "outputs": [],
   "source": [
    "display = display.merge(unique_bought['НомерЗаказаНаСайте'], left_on='Id', right_on='Телефон_new', how = 'left')\n",
    "display = display.rename(columns={'НомерЗаказаНаСайте':'КоличествоЧековВыкупленные'})\n",
    "display = display.fillna(0)"
   ]
  },
  {
   "cell_type": "code",
   "execution_count": null,
   "metadata": {
    "id": "kobty98OOUZ9"
   },
   "outputs": [],
   "source": [
    "display = display.merge(mean_non_dupe_bought, left_on='Id', right_on='Телефон_new', how = 'left')\n",
    "display = display.rename(columns={'Итог':'СреднийЧекВыкупленные'})\n",
    "display = display.fillna(0)"
   ]
  },
  {
   "cell_type": "code",
   "execution_count": null,
   "metadata": {
    "id": "iI1ltzPifx9P"
   },
   "outputs": [],
   "source": [
    "display = display.merge(mean['КоличествоПроданоКлиенту'], left_on='Id', right_on='Телефон_new', how = 'left')\n",
    "display = display.rename(columns={'КоличествоПроданоКлиенту':'СреднееЧислоТоваровЧекаВыкупленные'})\n",
    "display = display.fillna(0)"
   ]
  },
  {
   "cell_type": "code",
   "execution_count": null,
   "metadata": {
    "id": "y-tNvhWJgTuV"
   },
   "outputs": [],
   "source": [
    "display = display.merge(sum_bought['Итог'], left_on='Id', right_on='Телефон_new', how = 'left')\n",
    "display = display.rename(columns={'Итог':'ВыручкаВыкупленная'})\n",
    "display = display.fillna(0)"
   ]
  },
  {
   "cell_type": "code",
   "execution_count": null,
   "metadata": {
    "id": "DVoguBQogqoV"
   },
   "outputs": [],
   "source": [
    "display = display.merge(sum['КоличествоПроданоКлиенту'], left_on='Id', right_on='Телефон_new', how = 'left')\n",
    "display = display.rename(columns={'КоличествоПроданоКлиенту':'КоличествоТоваровВыкупленные'})\n",
    "display = display.fillna(0)"
   ]
  },
  {
   "cell_type": "code",
   "execution_count": null,
   "metadata": {
    "id": "dym-XaW0hTrJ"
   },
   "outputs": [],
   "source": [
    "display = display.merge(mean_bought['МаржаПолнаяВыкупленная'], left_on='Id', right_on='Телефон_new', how = 'left')\n",
    "display = display.rename(columns={'МаржаПолнаяВыкупленная':'СредняяМаржаВыкупленная'})\n",
    "display = display.fillna(0)"
   ]
  },
  {
   "cell_type": "code",
   "execution_count": null,
   "metadata": {
    "id": "48E-3T-IauvU"
   },
   "outputs": [],
   "source": [
    "display = display.merge(non_dupe[['РегионЗона', 'Телефон_new']], left_on='Id', right_on='Телефон_new', how = 'left')\n",
    "display = display.rename(columns={'РегионЗона':'Область'})\n",
    "display = display.fillna(0)\n",
    "display = display.drop(columns='Телефон_new')"
   ]
  },
  {
   "cell_type": "code",
   "execution_count": null,
   "metadata": {
    "id": "Lt-uTkPP2w3x"
   },
   "outputs": [],
   "source": [
    "display = display.merge(self_carry.to_frame().fillna(0), left_on='Id', right_index=True, how = 'left')\n",
    "display = display.rename(columns={'КоличествоПроданоКлиенту':'ДоляСамовывоза'})\n",
    "display = display.fillna(0)"
   ]
  },
  {
   "cell_type": "code",
   "execution_count": null,
   "metadata": {
    "id": "tiulztMO3M5Z"
   },
   "outputs": [],
   "source": [
    "display"
   ]
  },
  {
   "cell_type": "code",
   "execution_count": null,
   "metadata": {
    "id": "11xgM4hgpC_H"
   },
   "outputs": [],
   "source": [
    "display = display[display.КоличествоТоваровВыкупленные != 0]"
   ]
  },
  {
   "cell_type": "code",
   "execution_count": null,
   "metadata": {
    "id": "7vmjsGgIhqTb"
   },
   "outputs": [],
   "source": [
    "display['ДоляВыкупленных'] = display['КоличествоТоваровВыкупленные'] / display['КоличествоТоваров']"
   ]
  },
  {
   "cell_type": "code",
   "execution_count": null,
   "metadata": {
    "id": "JP7rRIyqi654"
   },
   "outputs": [],
   "source": [
    "for i in df.Тип.unique():\n",
    "    display[i] = i\n",
    "    display = display.merge(type['КоличествоПроданоКлиенту'], left_on=['Id', i], right_on=['Телефон_new', 'Тип'], how='left')\n",
    "    display = display.drop(columns=[i])\n",
    "    display = display.rename(columns={'КоличествоПроданоКлиенту':i})\n",
    "    display = display.fillna(0)\n",
    "    display[i] = display[i] / display['КоличествоТоваровВыкупленные']"
   ]
  },
  {
   "cell_type": "code",
   "execution_count": null,
   "metadata": {
    "id": "leBXshVkmZqZ"
   },
   "outputs": [],
   "source": [
    "for i in df.Группа2.unique():\n",
    "    display[i] = i\n",
    "    display = display.merge(group2['КоличествоПроданоКлиенту'], left_on=['Id', i], right_on=['Телефон_new', 'Группа2'], how='left')\n",
    "    display = display.drop(columns=[i])\n",
    "    display = display.rename(columns={'КоличествоПроданоКлиенту':i})\n",
    "    display = display.fillna(0)\n",
    "    display[i] = display[i] / display['КоличествоТоваровВыкупленные']"
   ]
  },
  {
   "cell_type": "code",
   "execution_count": null,
   "metadata": {
    "id": "vOvS5Abok8O3"
   },
   "outputs": [],
   "source": [
    "for i in df.Группа3.unique():\n",
    "    display[i] = i\n",
    "    display = display.merge(group3['КоличествоПроданоКлиенту'], left_on=['Id', i], right_on=['Телефон_new', 'Группа3'], how='left')\n",
    "    display = display.drop(columns=[i])\n",
    "    display = display.rename(columns={'КоличествоПроданоКлиенту':i})\n",
    "    display = display.fillna(0)\n",
    "    display[i] = display[i] / display['КоличествоТоваровВыкупленные']"
   ]
  },
  {
   "cell_type": "code",
   "execution_count": null,
   "metadata": {
    "id": "zTnM93YZhmfz"
   },
   "outputs": [],
   "source": [
    "display = display.merge(df_bought[['Телефон_new', 'Гео']].drop_duplicates(subset = 'Телефон_new'), left_on='Id', right_on='Телефон_new', how = 'left')\n",
    "display = display.drop(columns=['Телефон_new'])"
   ]
  },
  {
   "cell_type": "code",
   "execution_count": null,
   "metadata": {
    "id": "2qMJVF92cR_c"
   },
   "outputs": [],
   "source": [
    "display = display.merge(pd.get_dummies(display['Область']), left_index=True, right_index=True)\n",
    "display = display.drop(columns=['Область'])"
   ]
  },
  {
   "cell_type": "code",
   "execution_count": null,
   "metadata": {
    "id": "n-KPsUgwcaac"
   },
   "outputs": [],
   "source": [
    "display"
   ]
  },
  {
   "cell_type": "code",
   "execution_count": null,
   "metadata": {
    "id": "bP-21cSWyc0h"
   },
   "outputs": [],
   "source": [
    "display_print = display.astype('string')"
   ]
  },
  {
   "cell_type": "code",
   "execution_count": null,
   "metadata": {
    "id": "BDpDWpjSuNaH"
   },
   "outputs": [],
   "source": [
    "def foo(x):\n",
    "    return x.replace('.', ',')\n",
    "\n",
    "display_print = display_print.applymap(foo)"
   ]
  },
  {
   "cell_type": "code",
   "execution_count": null,
   "metadata": {
    "id": "FHLsInib470N"
   },
   "outputs": [],
   "source": [
    "display_print.to_csv('витрина_новая.csv', encoding='cp1251', sep=';')"
   ]
  },
  {
   "cell_type": "code",
   "execution_count": null,
   "metadata": {
    "id": "ssyIvCXyxqfC"
   },
   "outputs": [],
   "source": [
    "list(display.columns[1:114])"
   ]
  },
  {
   "cell_type": "code",
   "execution_count": null,
   "metadata": {
    "id": "YYbtJMYVQ3JO"
   },
   "outputs": [],
   "source": [
    "display = display.drop(columns=['Гео'])"
   ]
  },
  {
   "cell_type": "code",
   "execution_count": null,
   "metadata": {
    "id": "byevZX5eun-E"
   },
   "outputs": [],
   "source": [
    "from sklearn.preprocessing import StandardScaler\n",
    "\n",
    "display_proc = StandardScaler().fit_transform(display[list(display.columns[1:])])"
   ]
  },
  {
   "cell_type": "code",
   "execution_count": null,
   "metadata": {
    "id": "Up73nlPC7V-1"
   },
   "outputs": [],
   "source": [
    "display.columns[1:116]"
   ]
  },
  {
   "cell_type": "code",
   "execution_count": null,
   "metadata": {
    "id": "flGy3vdDp9dF"
   },
   "outputs": [],
   "source": [
    "def get_corr_cols(data, treshold):\n",
    " corr_matrix = data.corr().abs()\n",
    " upper = corr_matrix.where(np.triu(np.ones(corr_matrix.shape), k=1).astype(np.bool))\n",
    " to_drop = [column for column in upper.columns if any(upper[column] > treshold)]\n",
    " return to_drop\n",
    "\n",
    "def trimm_correlated(df_in, threshold):\n",
    " df_corr = df_in.corr(method='pearson', min_periods=1)\n",
    " df_not_correlated = ~(df_corr.mask(np.tril(np.ones([len(df_corr)]*2, dtype=bool))).abs() > threshold).any()\n",
    " un_corr_idx = df_not_correlated.loc[df_not_correlated[df_not_correlated.index] == True].index\n",
    " df_out = df_in[un_corr_idx]\n",
    " return df_out, list(set(range(189)) - set(un_corr_idx))"
   ]
  },
  {
   "cell_type": "code",
   "execution_count": null,
   "metadata": {
    "id": "QowKSS1uZKGL"
   },
   "outputs": [],
   "source": [
    "data_drop_corr, exclude = trimm_correlated(pd.DataFrame(data=display_proc), 0.6)\n",
    "exclude.sort()"
   ]
  },
  {
   "cell_type": "code",
   "execution_count": null,
   "metadata": {
    "id": "bb97SWStl_sS"
   },
   "outputs": [],
   "source": [
    "excluded = [list(display.columns)[i] for i in exclude]\n",
    "excluded"
   ]
  },
  {
   "cell_type": "code",
   "execution_count": null,
   "metadata": {
    "id": "ndTnDRtOrcsP"
   },
   "outputs": [],
   "source": [
    "excluded = list(['СредняяМаржа', 'КоличествоЧеков', 'СреднийЧек', 'СреднееЧислоТоваровЧека',\n",
    " 'Выручка',\n",
    " 'КоличествоТоваров',\n",
    " 'ИНОЕ',\n",
    " 'КОСМЕТИКА/ГИГИЕНА',\n",
    " 'ДЕТСКОЕ ПИТАНИЕ',\n",
    " 'ВЕРХНЯЯ ДЕТСКАЯ ОДЕЖДА',\n",
    " 'КАНЦТОВАРЫ',\n",
    " 'ПОДГУЗНИКИ',\n",
    " 'ПОЛИГРАФИЧЕСКАЯ ПРОДУКЦИЯ',\n",
    " 'ИГРУШКИ ДЛЯ ДЕВОЧЕК',\n",
    " 'КОРЗИНЫ, ЯЩИКИ ДЛЯ ИГРУШЕК',\n",
    " 'ФОТОАЛЬБОМЫ/ФОТОРАМКИ'])"
   ]
  },
  {
   "cell_type": "code",
   "execution_count": null,
   "metadata": {
    "id": "Lmy5QA6urzga"
   },
   "outputs": [],
   "source": [
    "excluded"
   ]
  },
  {
   "cell_type": "code",
   "execution_count": null,
   "metadata": {
    "id": "UccnsvFDZaNz"
   },
   "outputs": [],
   "source": [
    "import seaborn as sns\n",
    "import matplotlib.pyplot as plt\n",
    "\n",
    "plt.figure(figsize=(40, 30))\n",
    "sns.heatmap(data_drop_corr.corr(), annot=True)\n",
    "plt.show()"
   ]
  },
  {
   "cell_type": "code",
   "execution_count": null,
   "metadata": {
    "id": "QUDLGf0Udx7S"
   },
   "outputs": [],
   "source": [
    "from sklearn.decomposition import PCA\n",
    "reduced = PCA(n_components=2).fit_transform(data_drop_corr)"
   ]
  },
  {
   "cell_type": "code",
   "execution_count": null,
   "metadata": {
    "id": "c_OCSnNGj78E"
   },
   "outputs": [],
   "source": [
    "def optimalK(data, nrefs=3, maxClusters=6):\n",
    "    \"\"\"\n",
    "    Calculates KMeans optimal K using Gap Statistic from Tibshirani, Walther, Hastie\n",
    "    Params:\n",
    "        data: ndarry of shape (n_samples, n_features)\n",
    "        nrefs: number of sample reference datasets to create\n",
    "        maxClusters: Maximum number of clusters to test for\n",
    "    Returns: (gaps, optimalK)\n",
    "    \"\"\"\n",
    "    gaps = np.zeros((len(range(1, maxClusters)),))\n",
    "    resultsdf = pd.DataFrame({'clusterCount':[], 'gap':[]})\n",
    "    for gap_index, k in enumerate(range(1, maxClusters)):\n",
    "\n",
    "        # Holder for reference dispersion results\n",
    "        refDisps = np.zeros(nrefs)\n",
    "\n",
    "        # For n references, generate random sample and perform kmeans getting resulting dispersion of each loop\n",
    "        for i in range(nrefs):\n",
    "            \n",
    "            # Create new random reference set\n",
    "            randomReference = np.random.random_sample(size=data.shape)\n",
    "            \n",
    "            # Fit to it\n",
    "            km = KMeans(k)\n",
    "            km.fit(randomReference)\n",
    "            \n",
    "            refDisp = km.inertia_\n",
    "            refDisps[i] = refDisp\n",
    "\n",
    "        # Fit cluster to original data and create dispersion\n",
    "        km = KMeans(k)\n",
    "        km.fit(data)\n",
    "        \n",
    "        origDisp = km.inertia_\n",
    "\n",
    "        # Calculate gap statistic\n",
    "        gap = np.log(np.mean(refDisps)) - np.log(origDisp)\n",
    "\n",
    "        # Assign this loop's gap statistic to gaps\n",
    "        gaps[gap_index] = gap\n",
    "        \n",
    "        resultsdf = resultsdf.append({'clusterCount':k, 'gap':gap}, ignore_index=True)\n",
    "\n",
    "    return (gaps.argmax() + 1, resultsdf)  # Plus 1 because index of 0 means 1 cluster is optimal, index 2 = 3 clusters are optimal"
   ]
  },
  {
   "cell_type": "code",
   "execution_count": null,
   "metadata": {
    "id": "th36ICQ7j_E8"
   },
   "outputs": [],
   "source": [
    "from sklearn.cluster import KMeans\n",
    "gapdf, k = optimalK(data_drop_corr)"
   ]
  },
  {
   "cell_type": "code",
   "execution_count": null,
   "metadata": {
    "id": "TcDJtcTKMPIG"
   },
   "outputs": [],
   "source": [
    "pca = PCA(n_components=2)\n",
    "pca.fit(data_drop_corr)\n",
    "X_pca_2 = pca.transform(data_drop_corr)\n",
    "plt.figure(figsize=(9, 6))\n",
    "plt.scatter(X_pca_2[:, 0], X_pca_2[:, 1], linewidth=2, marker=\"o\")\n",
    "plt.xticks(size=16)\n",
    "plt.yticks(size=16)\n",
    "plt.xlabel(r'$X_{1}$', size=16)\n",
    "plt.ylabel(r'$X_{2}$', size=16)\n",
    "plt.title(\"PCA with 2 components\", loc='left', size=16)\n",
    "plt.grid(b=1)\n",
    "plt.xlim(-10, 100)\n",
    "plt.ylim(-30, 30)\n",
    "plt.show()"
   ]
  },
  {
   "cell_type": "code",
   "execution_count": null,
   "metadata": {
    "id": "HmQyZaYorOeK"
   },
   "outputs": [],
   "source": [
    "pca = PCA(n_components=1)\n",
    "pca.fit(data_drop_corr)\n",
    "X_pca_1 = pca.transform(data_drop_corr)\n",
    "plt.figure(figsize=(9, 6))\n",
    "bins = np.linspace(-1.5, 1.5, 61)\n",
    "plt.hist(X_pca_1[:, 0], bins=bins)\n",
    "plt.xticks(size=16)\n",
    "plt.yticks(size=16)\n",
    "plt.xlabel(r'$X_{1}$', size=16)\n",
    "plt.ylabel(r'Number of objects', size=16)\n",
    "plt.title(\"PCA with 1 component\", loc='left', size=16)\n",
    "plt.grid(b=1)\n",
    "plt.show()"
   ]
  },
  {
   "cell_type": "code",
   "execution_count": null,
   "metadata": {
    "id": "mv1LvS0keP6x"
   },
   "outputs": [],
   "source": [
    "plt.plot(gapdf.clusterCount, gapdf.gap, linewidth=3)\n",
    "plt.scatter(gapdf[gapdf.clusterCount == k].clusterCount, gapdf[gapdf.clusterCount == k].gap, s=250, c='r')\n",
    "plt.grid(True)\n",
    "plt.xlabel('Cluster Count')\n",
    "plt.ylabel('Gap Value')\n",
    "plt.title('Gap Values by Cluster Count')\n",
    "plt.show()"
   ]
  },
  {
   "cell_type": "code",
   "execution_count": null,
   "metadata": {
    "id": "zhF4a7_tIbNF"
   },
   "outputs": [],
   "source": [
    "\n",
    "\n",
    "pca = PCA(n_components=50)\n",
    "clusterer_3 = KMeans(n_clusters=3, random_state=11, n_jobs=-1)\n",
    "clusterer_3.fit(pca.fit_transform(data_drop_corr))\n",
    "labels_3 = clusterer_3.predict(pca.fit_transform(data_drop_corr))\n",
    "pca = PCA(n_components=50)\n",
    "clusterer_4 = KMeans(n_clusters=4, random_state=11, n_jobs=-1)\n",
    "clusterer_4.fit(pca.fit_transform(data_drop_corr))\n",
    "labels_4 = clusterer_4.predict(pca.fit_transform(data_drop_corr))\n",
    "pca = PCA(n_components=50)\n",
    "clusterer_5 = KMeans(n_clusters=5, random_state=11, n_jobs=-1)\n",
    "clusterer_5.fit(pca.fit_transform(data_drop_corr))\n",
    "labels_5 = clusterer_5.predict(pca.fit_transform(data_drop_corr))"
   ]
  },
  {
   "cell_type": "code",
   "execution_count": null,
   "metadata": {
    "id": "2M-ymsjTsgNu"
   },
   "outputs": [],
   "source": [
    "def plot_clusters_2D(X, labels):\n",
    " pca = PCA(n_components=2)\n",
    " pca.fit(X)\n",
    " X_pca_2 = pca.transform(X)\n",
    " plt.figure(figsize=(9, 6))\n",
    " for lab in np.unique(labels):\n",
    "  plt.scatter(X_pca_2[labels==lab, 0], X_pca_2[labels==lab, 1], linewidth=2, marker=\"x\", label=str(lab))\n",
    " plt.xticks(size=16)\n",
    " plt.yticks(size=16)\n",
    " plt.xlabel(r'$X_{1}$', size=16)\n",
    " plt.ylabel(r'$X_{2}$', size=16)\n",
    " plt.title(\"PCA with 2 components\", loc='left', size=16)\n",
    " plt.legend(loc='best', fontsize=16)\n",
    " plt.grid(b=1)\n",
    " plt.show()"
   ]
  },
  {
   "cell_type": "code",
   "execution_count": null,
   "metadata": {
    "id": "IHIPtNDVTwoC"
   },
   "outputs": [],
   "source": [
    "plot_clusters_2D(data_drop_corr, labels_3)"
   ]
  },
  {
   "cell_type": "code",
   "execution_count": null,
   "metadata": {
    "id": "vrzCpljwTzvY"
   },
   "outputs": [],
   "source": [
    "plot_clusters_2D(data_drop_corr, labels_4)"
   ]
  },
  {
   "cell_type": "code",
   "execution_count": null,
   "metadata": {
    "id": "UoQzkarKT1Wb"
   },
   "outputs": [],
   "source": [
    "plot_clusters_2D(data_drop_corr, labels_5)"
   ]
  },
  {
   "cell_type": "code",
   "execution_count": null,
   "metadata": {
    "id": "DFkzarblO1Hg"
   },
   "outputs": [],
   "source": [
    "pca = PCA(n_components=2)\n",
    "pca.fit(data_drop_corr)\n",
    "X_pca_2 = pca.transform(data_drop_corr)\n",
    "plt.figure(figsize=(9, 6))\n",
    "plt.scatter(X_pca_2[:, 0], X_pca_2[:, 1], linewidth=2, marker=\"o\")\n",
    "plt.xticks(size=16)\n",
    "plt.yticks(size=16)\n",
    "plt.xlabel(r'$X_{1}$', size=16)\n",
    "plt.ylabel(r'$X_{2}$', size=16)\n",
    "plt.title(\"PCA with 2 components\", loc='left', size=16)\n",
    "plt.grid(b=1)\n",
    "plt.xlim(-10, 15)\n",
    "plt.ylim(-30, 30)\n",
    "plt.show()"
   ]
  },
  {
   "cell_type": "code",
   "execution_count": null,
   "metadata": {
    "id": "Njo7hTS7pI7N"
   },
   "outputs": [],
   "source": [
    "display['Кластер'] = labels_5 + 1"
   ]
  },
  {
   "cell_type": "code",
   "execution_count": null,
   "metadata": {
    "id": "2VwmGT4WfaOD"
   },
   "outputs": [],
   "source": [
    "display"
   ]
  },
  {
   "cell_type": "code",
   "execution_count": null,
   "metadata": {
    "id": "jch7EdlMpynl"
   },
   "outputs": [],
   "source": [
    "display.drop(columns=excluded, axis = 1).to_csv('витрина.csv', sep=';', encoding='cp1251')"
   ]
  }
 ],
 "metadata": {
  "accelerator": "GPU",
  "colab": {
   "collapsed_sections": [],
   "name": "data-research",
   "provenance": []
  },
  "kernelspec": {
   "display_name": "Python 3",
   "name": "python3"
  }
 },
 "nbformat": 4,
 "nbformat_minor": 0
}
